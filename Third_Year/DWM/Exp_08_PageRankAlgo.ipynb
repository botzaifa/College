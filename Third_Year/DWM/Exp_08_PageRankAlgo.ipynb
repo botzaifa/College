{
 "cells": [
  {
   "cell_type": "code",
   "execution_count": 4,
   "id": "40b1c539",
   "metadata": {},
   "outputs": [],
   "source": [
    "def page_rank(grpah, damping_factor=0.85, max_iterations=100, tolerance=1e-6):\n",
    "    num_nodes = len(graph)\n",
    "    initial_pr = 1.0 / num_nodes\n",
    "    page_rank = {node: initial_pr for node in grpah}\n",
    "    out_degrees = {node: len(graph[node]) for node in graph}\n",
    "    \n",
    "    for _ in range(max_iterations):\n",
    "        prev_page_rank = page_rank.copy()\n",
    "        total_diff = 0.0\n",
    "        for node in graph:\n",
    "            page_rank[node] = (1 - damping_factor) / num_nodes\n",
    "            \n",
    "            for neighbour in graph[node]:\n",
    "                page_rank[node] += damping_factor * prev_page_rank[neighbour] / out_degrees[neighbour]\n",
    "            \n",
    "            diff = abs(page_rank[node] - prev_page_rank[node])\n",
    "            total_diff += diff\n",
    "        \n",
    "        if total_diff < tolerance:\n",
    "            break\n",
    "    \n",
    "    return page_rank        "
   ]
  },
  {
   "cell_type": "code",
   "execution_count": 5,
   "id": "c2df031a",
   "metadata": {},
   "outputs": [
    {
     "name": "stdout",
     "output_type": "stream",
     "text": [
      "Page Rank results:\n",
      "A: 0.386942\n",
      "B: 0.209158\n",
      "D: 0.209158\n",
      "C: 0.201950\n"
     ]
    }
   ],
   "source": [
    "if __name__ == \"__main__\":\n",
    "    graph = {\n",
    "        'A' : ['B','C'],\n",
    "        'B' : ['C'],\n",
    "        'C' : ['A'],\n",
    "        'D' : ['C']}\n",
    "    result = page_rank(graph)\n",
    "    sorted_result = {k: v for k, v in sorted(result.items(),\n",
    "                                            key= lambda item: item[1], \n",
    "                                             reverse=True)}\n",
    "    print(\"Page Rank results:\")\n",
    "    for node, pr in sorted_result.items():\n",
    "        print(f\"{node}: {pr:4f}\")"
   ]
  },
  {
   "cell_type": "code",
   "execution_count": null,
   "id": "027a40d3",
   "metadata": {},
   "outputs": [],
   "source": []
  }
 ],
 "metadata": {
  "kernelspec": {
   "display_name": "Python 3 (ipykernel)",
   "language": "python",
   "name": "python3"
  },
  "language_info": {
   "codemirror_mode": {
    "name": "ipython",
    "version": 3
   },
   "file_extension": ".py",
   "mimetype": "text/x-python",
   "name": "python",
   "nbconvert_exporter": "python",
   "pygments_lexer": "ipython3",
   "version": "3.9.13"
  }
 },
 "nbformat": 4,
 "nbformat_minor": 5
}
