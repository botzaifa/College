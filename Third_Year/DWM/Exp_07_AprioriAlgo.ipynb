{
 "cells": [
  {
   "cell_type": "code",
   "execution_count": 1,
   "id": "83ee9260",
   "metadata": {},
   "outputs": [],
   "source": [
    "from mlxtend.frequent_patterns import apriori\n",
    "from mlxtend.frequent_patterns import association_rules\n",
    "import pandas as pd"
   ]
  },
  {
   "cell_type": "code",
   "execution_count": 2,
   "id": "4a4bf4b3",
   "metadata": {},
   "outputs": [],
   "source": [
    "# Sample dataset\n",
    "data = {'Transaction': ['T1', 'T2', 'T3', 'T4', 'T5'],\n",
    "        'Items': [['A', 'B', 'D'],\n",
    "                  ['B', 'C'],\n",
    "                  ['A', 'B', 'C', 'E'],\n",
    "                  ['A', 'C', 'E'],\n",
    "                  ['A', 'B', 'D']]}\n",
    "\n",
    "df = pd.DataFrame(data)"
   ]
  },
  {
   "cell_type": "code",
   "execution_count": 3,
   "id": "9ee9bc9d",
   "metadata": {},
   "outputs": [],
   "source": [
    "# Transform the transaction data into a one-hot encoded DataFrame\n",
    "onehot = df['Items'].str.join('|').str.get_dummies()\n",
    "onehot = onehot.add_prefix('Item_')"
   ]
  },
  {
   "cell_type": "code",
   "execution_count": null,
   "id": "10483ad2",
   "metadata": {},
   "outputs": [],
   "source": [
    "# Apply the Apriori algorithm to find frequent itemsets\n",
    "frequent_itemsets = apriori(onehot, min_support=0.4, use_colnames=True)"
   ]
  },
  {
   "cell_type": "code",
   "execution_count": 5,
   "id": "1a4e5f48",
   "metadata": {},
   "outputs": [],
   "source": [
    "# Generate association rules\n",
    "rules = association_rules(frequent_itemsets, metric=\"lift\", min_threshold=1)"
   ]
  },
  {
   "cell_type": "code",
   "execution_count": 6,
   "id": "c0b187f4",
   "metadata": {},
   "outputs": [
    {
     "name": "stdout",
     "output_type": "stream",
     "text": [
      "Frequent Itemsets:\n",
      "    support                  itemsets\n",
      "0       0.8                  (Item_A)\n",
      "1       0.8                  (Item_B)\n",
      "2       0.6                  (Item_C)\n",
      "3       0.4                  (Item_D)\n",
      "4       0.4                  (Item_E)\n",
      "5       0.6          (Item_B, Item_A)\n",
      "6       0.4          (Item_C, Item_A)\n",
      "7       0.4          (Item_D, Item_A)\n",
      "8       0.4          (Item_E, Item_A)\n",
      "9       0.4          (Item_B, Item_C)\n",
      "10      0.4          (Item_B, Item_D)\n",
      "11      0.4          (Item_E, Item_C)\n",
      "12      0.4  (Item_B, Item_D, Item_A)\n",
      "13      0.4  (Item_E, Item_C, Item_A)\n",
      "\n",
      "Association Rules:\n",
      "         antecedents       consequents  antecedent support  \\\n",
      "0           (Item_D)          (Item_A)                 0.4   \n",
      "1           (Item_A)          (Item_D)                 0.8   \n",
      "2           (Item_E)          (Item_A)                 0.4   \n",
      "3           (Item_A)          (Item_E)                 0.8   \n",
      "4           (Item_B)          (Item_D)                 0.8   \n",
      "5           (Item_D)          (Item_B)                 0.4   \n",
      "6           (Item_E)          (Item_C)                 0.4   \n",
      "7           (Item_C)          (Item_E)                 0.6   \n",
      "8   (Item_B, Item_D)          (Item_A)                 0.4   \n",
      "9   (Item_B, Item_A)          (Item_D)                 0.6   \n",
      "10  (Item_D, Item_A)          (Item_B)                 0.4   \n",
      "11          (Item_B)  (Item_D, Item_A)                 0.8   \n",
      "12          (Item_D)  (Item_B, Item_A)                 0.4   \n",
      "13          (Item_A)  (Item_B, Item_D)                 0.8   \n",
      "14  (Item_E, Item_C)          (Item_A)                 0.4   \n",
      "15  (Item_E, Item_A)          (Item_C)                 0.4   \n",
      "16  (Item_A, Item_C)          (Item_E)                 0.4   \n",
      "17          (Item_E)  (Item_A, Item_C)                 0.4   \n",
      "18          (Item_C)  (Item_E, Item_A)                 0.6   \n",
      "19          (Item_A)  (Item_E, Item_C)                 0.8   \n",
      "\n",
      "    consequent support  support  confidence      lift  leverage  conviction  \\\n",
      "0                  0.8      0.4    1.000000  1.250000      0.08         inf   \n",
      "1                  0.4      0.4    0.500000  1.250000      0.08         1.2   \n",
      "2                  0.8      0.4    1.000000  1.250000      0.08         inf   \n",
      "3                  0.4      0.4    0.500000  1.250000      0.08         1.2   \n",
      "4                  0.4      0.4    0.500000  1.250000      0.08         1.2   \n",
      "5                  0.8      0.4    1.000000  1.250000      0.08         inf   \n",
      "6                  0.6      0.4    1.000000  1.666667      0.16         inf   \n",
      "7                  0.4      0.4    0.666667  1.666667      0.16         1.8   \n",
      "8                  0.8      0.4    1.000000  1.250000      0.08         inf   \n",
      "9                  0.4      0.4    0.666667  1.666667      0.16         1.8   \n",
      "10                 0.8      0.4    1.000000  1.250000      0.08         inf   \n",
      "11                 0.4      0.4    0.500000  1.250000      0.08         1.2   \n",
      "12                 0.6      0.4    1.000000  1.666667      0.16         inf   \n",
      "13                 0.4      0.4    0.500000  1.250000      0.08         1.2   \n",
      "14                 0.8      0.4    1.000000  1.250000      0.08         inf   \n",
      "15                 0.6      0.4    1.000000  1.666667      0.16         inf   \n",
      "16                 0.4      0.4    1.000000  2.500000      0.24         inf   \n",
      "17                 0.4      0.4    1.000000  2.500000      0.24         inf   \n",
      "18                 0.4      0.4    0.666667  1.666667      0.16         1.8   \n",
      "19                 0.4      0.4    0.500000  1.250000      0.08         1.2   \n",
      "\n",
      "    zhangs_metric  \n",
      "0        0.333333  \n",
      "1        1.000000  \n",
      "2        0.333333  \n",
      "3        1.000000  \n",
      "4        1.000000  \n",
      "5        0.333333  \n",
      "6        0.666667  \n",
      "7        1.000000  \n",
      "8        0.333333  \n",
      "9        1.000000  \n",
      "10       0.333333  \n",
      "11       1.000000  \n",
      "12       0.666667  \n",
      "13       1.000000  \n",
      "14       0.333333  \n",
      "15       0.666667  \n",
      "16       1.000000  \n",
      "17       1.000000  \n",
      "18       1.000000  \n",
      "19       1.000000  \n"
     ]
    }
   ],
   "source": [
    "# Display frequent itemsets and association rules\n",
    "print(\"Frequent Itemsets:\")\n",
    "print(frequent_itemsets)\n",
    "print(\"\\nAssociation Rules:\")\n",
    "print(rules)"
   ]
  },
  {
   "cell_type": "code",
   "execution_count": null,
   "id": "4e2438fb",
   "metadata": {},
   "outputs": [],
   "source": []
  }
 ],
 "metadata": {
  "kernelspec": {
   "display_name": "Python 3 (ipykernel)",
   "language": "python",
   "name": "python3"
  },
  "language_info": {
   "codemirror_mode": {
    "name": "ipython",
    "version": 3
   },
   "file_extension": ".py",
   "mimetype": "text/x-python",
   "name": "python",
   "nbconvert_exporter": "python",
   "pygments_lexer": "ipython3",
   "version": "3.9.13"
  }
 },
 "nbformat": 4,
 "nbformat_minor": 5
}
