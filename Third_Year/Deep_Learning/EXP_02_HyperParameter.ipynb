{
 "cells": [
  {
   "cell_type": "code",
   "execution_count": 1,
   "id": "5d518e94",
   "metadata": {},
   "outputs": [],
   "source": [
    "from sklearn.datasets import load_iris\n",
    "from sklearn.model_selection import train_test_split , GridSearchCV\n",
    "from sklearn.svm import SVC"
   ]
  },
  {
   "cell_type": "code",
   "execution_count": 2,
   "id": "f5328cb2",
   "metadata": {},
   "outputs": [],
   "source": [
    "#load the dataset\n",
    "iris = load_iris()\n",
    "X , y = iris.data , iris.target"
   ]
  },
  {
   "cell_type": "code",
   "execution_count": 3,
   "id": "17a9745e",
   "metadata": {},
   "outputs": [],
   "source": [
    "#Split the data \n",
    "X_train , X_test , y_train , y_test = train_test_split(X , y , test_size=0.2 , random_state=42)"
   ]
  },
  {
   "cell_type": "code",
   "execution_count": 4,
   "id": "fe36ea83",
   "metadata": {},
   "outputs": [],
   "source": [
    "#define the SVM classifier\n",
    "svm = SVC()"
   ]
  },
  {
   "cell_type": "code",
   "execution_count": 5,
   "id": "230d7e26",
   "metadata": {},
   "outputs": [],
   "source": [
    "#Define Hyperparameters grid to search\n",
    "param_grid = {\n",
    "    'C' : [0.1,1,10,100],\n",
    "    'gamma' : [1,0.1,0.01,0.001],\n",
    "    'kernel' : ['rbf','linear' , 'poly']\n",
    "}"
   ]
  },
  {
   "cell_type": "code",
   "execution_count": 6,
   "id": "6fffae87",
   "metadata": {},
   "outputs": [
    {
     "data": {
      "text/plain": [
       "GridSearchCV(cv=5, estimator=SVC(),\n",
       "             param_grid={'C': [0.1, 1, 10, 100], 'gamma': [1, 0.1, 0.01, 0.001],\n",
       "                         'kernel': ['rbf', 'linear', 'poly']})"
      ]
     },
     "execution_count": 6,
     "metadata": {},
     "output_type": "execute_result"
    }
   ],
   "source": [
    "#perform grid search with cross validation\n",
    "grid_search = GridSearchCV(estimator=svm ,param_grid=param_grid , cv=5)\n",
    "grid_search.fit(X_train,y_train)"
   ]
  },
  {
   "cell_type": "code",
   "execution_count": 8,
   "id": "cf09cb57",
   "metadata": {},
   "outputs": [
    {
     "name": "stdout",
     "output_type": "stream",
     "text": [
      "Best parameters are found: {'C': 0.1, 'gamma': 0.1, 'kernel': 'poly'}\n"
     ]
    }
   ],
   "source": [
    "#print best Hyper parameters\n",
    "print(\"Best parameters are found:\",grid_search.best_params_)"
   ]
  },
  {
   "cell_type": "code",
   "execution_count": 9,
   "id": "5c737c6e",
   "metadata": {},
   "outputs": [
    {
     "name": "stdout",
     "output_type": "stream",
     "text": [
      "Test Accuracy: 1.0\n"
     ]
    }
   ],
   "source": [
    "#evaluate the model on test data\n",
    "best_model= grid_search.best_estimator_\n",
    "test_accuracy= best_model.score(X_test,y_test)\n",
    "print(\"Test Accuracy:\",test_accuracy)"
   ]
  }
 ],
 "metadata": {
  "kernelspec": {
   "display_name": "Python 3 (ipykernel)",
   "language": "python",
   "name": "python3"
  },
  "language_info": {
   "codemirror_mode": {
    "name": "ipython",
    "version": 3
   },
   "file_extension": ".py",
   "mimetype": "text/x-python",
   "name": "python",
   "nbconvert_exporter": "python",
   "pygments_lexer": "ipython3",
   "version": "3.9.13"
  }
 },
 "nbformat": 4,
 "nbformat_minor": 5
}
