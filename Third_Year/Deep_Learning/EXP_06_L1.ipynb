{
 "cells": [
  {
   "cell_type": "code",
   "execution_count": 1,
   "id": "6f4cc449",
   "metadata": {},
   "outputs": [],
   "source": [
    "import numpy as np\n",
    "import tensorflow as tf\n",
    "from tensorflow.keras import Sequential\n",
    "from tensorflow.keras.layers import Dense\n",
    "from tensorflow.keras import regularizers"
   ]
  },
  {
   "cell_type": "code",
   "execution_count": 2,
   "id": "62c07fe8",
   "metadata": {},
   "outputs": [],
   "source": [
    "np.random.seed(0)\n",
    "X = np.random.randn(100,10)\n",
    "y = np.random.randint(1,2,size = (100,))"
   ]
  },
  {
   "cell_type": "code",
   "execution_count": 4,
   "id": "674f2b14",
   "metadata": {},
   "outputs": [
    {
     "name": "stdout",
     "output_type": "stream",
     "text": [
      "Model: \"sequential\"\n",
      "_________________________________________________________________\n",
      " Layer (type)                Output Shape              Param #   \n",
      "=================================================================\n",
      " dense (Dense)               (None, 64)                704       \n",
      "                                                                 \n",
      " dense_1 (Dense)             (None, 32)                2080      \n",
      "                                                                 \n",
      " dense_2 (Dense)             (None, 1)                 33        \n",
      "                                                                 \n",
      "=================================================================\n",
      "Total params: 2817 (11.00 KB)\n",
      "Trainable params: 2817 (11.00 KB)\n",
      "Non-trainable params: 0 (0.00 Byte)\n",
      "_________________________________________________________________\n"
     ]
    }
   ],
   "source": [
    "model = Sequential([\n",
    "    Dense(64, input_shape = (10,) , activation = 'relu' , kernel_regularizer=regularizers.l1(0.01)),\n",
    "    Dense(32,activation='relu',kernel_regularizer=regularizers.l2(0.01)),\n",
    "    Dense(1,activation='sigmoid')\n",
    "])\n",
    "\n",
    "model.summary()"
   ]
  },
  {
   "cell_type": "code",
   "execution_count": 5,
   "id": "3ef28708",
   "metadata": {},
   "outputs": [],
   "source": [
    "model.compile(optimizer='adam',loss='binary_crossentropy',metrics=['accuracy'])"
   ]
  },
  {
   "cell_type": "code",
   "execution_count": 6,
   "id": "9879b1f4",
   "metadata": {},
   "outputs": [
    {
     "name": "stdout",
     "output_type": "stream",
     "text": [
      "Epoch 1/10\n",
      "3/3 [==============================] - 1s 125ms/step - loss: 2.2499 - accuracy: 0.0125 - val_loss: 2.1169 - val_accuracy: 0.1500\n",
      "Epoch 2/10\n",
      "3/3 [==============================] - 0s 20ms/step - loss: 2.1536 - accuracy: 0.0875 - val_loss: 2.0419 - val_accuracy: 0.3500\n",
      "Epoch 3/10\n",
      "3/3 [==============================] - 0s 21ms/step - loss: 2.0655 - accuracy: 0.2000 - val_loss: 1.9736 - val_accuracy: 0.6500\n",
      "Epoch 4/10\n",
      "3/3 [==============================] - 0s 20ms/step - loss: 1.9860 - accuracy: 0.5000 - val_loss: 1.9095 - val_accuracy: 0.9000\n",
      "Epoch 5/10\n",
      "3/3 [==============================] - 0s 17ms/step - loss: 1.9112 - accuracy: 0.7750 - val_loss: 1.8480 - val_accuracy: 0.9000\n",
      "Epoch 6/10\n",
      "3/3 [==============================] - 0s 17ms/step - loss: 1.8427 - accuracy: 0.9750 - val_loss: 1.7891 - val_accuracy: 0.9500\n",
      "Epoch 7/10\n",
      "3/3 [==============================] - 0s 20ms/step - loss: 1.7784 - accuracy: 1.0000 - val_loss: 1.7325 - val_accuracy: 1.0000\n",
      "Epoch 8/10\n",
      "3/3 [==============================] - 0s 19ms/step - loss: 1.7167 - accuracy: 1.0000 - val_loss: 1.6768 - val_accuracy: 1.0000\n",
      "Epoch 9/10\n",
      "3/3 [==============================] - 0s 18ms/step - loss: 1.6568 - accuracy: 1.0000 - val_loss: 1.6231 - val_accuracy: 1.0000\n",
      "Epoch 10/10\n",
      "3/3 [==============================] - 0s 18ms/step - loss: 1.5999 - accuracy: 1.0000 - val_loss: 1.5722 - val_accuracy: 1.0000\n"
     ]
    }
   ],
   "source": [
    "history = model.fit(X,y,epochs=10,batch_size=32,validation_split=0.2,verbose=1)"
   ]
  },
  {
   "cell_type": "code",
   "execution_count": 7,
   "id": "1702b0b7",
   "metadata": {},
   "outputs": [
    {
     "name": "stdout",
     "output_type": "stream",
     "text": [
      "Training History:\n",
      "Loss: [2.2499499320983887, 2.153630495071411, 2.065537214279175, 1.986022710800171, 1.9111953973770142, 1.8426653146743774, 1.7784217596054077, 1.716670274734497, 1.656846284866333, 1.5998982191085815]\n",
      "Accuracy: [0.012500000186264515, 0.08749999850988388, 0.20000000298023224, 0.5, 0.7749999761581421, 0.9750000238418579, 1.0, 1.0, 1.0, 1.0]\n",
      "Validation Loss: [2.1168622970581055, 2.0419204235076904, 1.9735558032989502, 1.909510850906372, 1.8479645252227783, 1.789065957069397, 1.7325414419174194, 1.6768497228622437, 1.6231012344360352, 1.5722352266311646]\n",
      "Validation Accuracy: [0.15000000596046448, 0.3499999940395355, 0.6499999761581421, 0.8999999761581421, 0.8999999761581421, 0.949999988079071, 1.0, 1.0, 1.0, 1.0]\n"
     ]
    }
   ],
   "source": [
    "print(\"Training History:\")\n",
    "print(\"Loss:\",history.history['loss'])\n",
    "print(\"Accuracy:\", history.history['accuracy'])\n",
    "print(\"Validation Loss:\",history.history['val_loss'])\n",
    "print(\"Validation Accuracy:\",history.history['val_accuracy'])"
   ]
  }
 ],
 "metadata": {
  "kernelspec": {
   "display_name": "Python 3 (ipykernel)",
   "language": "python",
   "name": "python3"
  },
  "language_info": {
   "codemirror_mode": {
    "name": "ipython",
    "version": 3
   },
   "file_extension": ".py",
   "mimetype": "text/x-python",
   "name": "python",
   "nbconvert_exporter": "python",
   "pygments_lexer": "ipython3",
   "version": "3.9.13"
  }
 },
 "nbformat": 4,
 "nbformat_minor": 5
}
