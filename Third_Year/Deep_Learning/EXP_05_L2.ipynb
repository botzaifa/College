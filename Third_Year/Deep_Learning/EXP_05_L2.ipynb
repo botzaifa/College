{
 "cells": [
  {
   "cell_type": "code",
   "execution_count": 1,
   "id": "e6422030",
   "metadata": {},
   "outputs": [],
   "source": [
    "import numpy as np\n",
    "import tensorflow as tf\n",
    "from tensorflow.keras import Sequential\n",
    "from tensorflow.keras.layers import Dense\n",
    "from tensorflow.keras import regularizers"
   ]
  },
  {
   "cell_type": "code",
   "execution_count": 2,
   "id": "19392c85",
   "metadata": {},
   "outputs": [],
   "source": [
    "np.random.seed(0)\n",
    "X = np.random.randn(100,10)\n",
    "y = np.random.randint(1,2,size = (100,))"
   ]
  },
  {
   "cell_type": "code",
   "execution_count": 3,
   "id": "ff3faed7",
   "metadata": {},
   "outputs": [],
   "source": [
    "model = Sequential([\n",
    "    Dense(64, input_shape = (10,) , activation = 'relu' , kernel_regularizer=regularizers.l2(0.01)),\n",
    "    Dense(32,activation='relu',kernel_regularizer=regularizers.l2(0.01)),\n",
    "    Dense(1,activation='sigmoid')\n",
    "])"
   ]
  },
  {
   "cell_type": "code",
   "execution_count": 4,
   "id": "285074e3",
   "metadata": {},
   "outputs": [
    {
     "name": "stdout",
     "output_type": "stream",
     "text": [
      "Model: \"sequential\"\n",
      "_________________________________________________________________\n",
      " Layer (type)                Output Shape              Param #   \n",
      "=================================================================\n",
      " dense (Dense)               (None, 64)                704       \n",
      "                                                                 \n",
      " dense_1 (Dense)             (None, 32)                2080      \n",
      "                                                                 \n",
      " dense_2 (Dense)             (None, 1)                 33        \n",
      "                                                                 \n",
      "=================================================================\n",
      "Total params: 2817 (11.00 KB)\n",
      "Trainable params: 2817 (11.00 KB)\n",
      "Non-trainable params: 0 (0.00 Byte)\n",
      "_________________________________________________________________\n"
     ]
    }
   ],
   "source": [
    "model.summary()"
   ]
  },
  {
   "cell_type": "code",
   "execution_count": 5,
   "id": "2992f372",
   "metadata": {},
   "outputs": [],
   "source": [
    "model.compile(optimizer='adam',loss='binary_crossentropy',metrics=['accuracy'])"
   ]
  },
  {
   "cell_type": "code",
   "execution_count": 6,
   "id": "0aff1e67",
   "metadata": {},
   "outputs": [
    {
     "name": "stdout",
     "output_type": "stream",
     "text": [
      "Epoch 1/10\n",
      "3/3 [==============================] - 1s 125ms/step - loss: 1.4542 - accuracy: 0.1750 - val_loss: 1.3370 - val_accuracy: 0.3000\n",
      "Epoch 2/10\n",
      "3/3 [==============================] - 0s 18ms/step - loss: 1.3530 - accuracy: 0.3875 - val_loss: 1.2482 - val_accuracy: 0.6000\n",
      "Epoch 3/10\n",
      "3/3 [==============================] - 0s 17ms/step - loss: 1.2614 - accuracy: 0.6500 - val_loss: 1.1689 - val_accuracy: 0.8500\n",
      "Epoch 4/10\n",
      "3/3 [==============================] - 0s 17ms/step - loss: 1.1812 - accuracy: 0.7875 - val_loss: 1.0975 - val_accuracy: 0.9500\n",
      "Epoch 5/10\n",
      "3/3 [==============================] - 0s 17ms/step - loss: 1.1077 - accuracy: 0.8250 - val_loss: 1.0325 - val_accuracy: 1.0000\n",
      "Epoch 6/10\n",
      "3/3 [==============================] - 0s 17ms/step - loss: 1.0394 - accuracy: 0.9625 - val_loss: 0.9752 - val_accuracy: 1.0000\n",
      "Epoch 7/10\n",
      "3/3 [==============================] - 0s 17ms/step - loss: 0.9793 - accuracy: 0.9875 - val_loss: 0.9241 - val_accuracy: 1.0000\n",
      "Epoch 8/10\n",
      "3/3 [==============================] - 0s 17ms/step - loss: 0.9238 - accuracy: 1.0000 - val_loss: 0.8783 - val_accuracy: 1.0000\n",
      "Epoch 9/10\n",
      "3/3 [==============================] - 0s 17ms/step - loss: 0.8739 - accuracy: 1.0000 - val_loss: 0.8372 - val_accuracy: 1.0000\n",
      "Epoch 10/10\n",
      "3/3 [==============================] - 0s 18ms/step - loss: 0.8295 - accuracy: 1.0000 - val_loss: 0.7997 - val_accuracy: 1.0000\n"
     ]
    }
   ],
   "source": [
    "history = model.fit(X,y,epochs=10,batch_size=32,validation_split=0.2,verbose=1)"
   ]
  },
  {
   "cell_type": "code",
   "execution_count": 7,
   "id": "26cf2586",
   "metadata": {},
   "outputs": [
    {
     "name": "stdout",
     "output_type": "stream",
     "text": [
      "Training History:\n",
      "Loss: [1.4541842937469482, 1.3529552221298218, 1.2614498138427734, 1.1812467575073242, 1.1076509952545166, 1.0393755435943604, 0.9792779088020325, 0.9238112568855286, 0.8738583326339722, 0.8294560313224792]\n",
      "Accuracy: [0.17499999701976776, 0.38749998807907104, 0.6499999761581421, 0.7875000238418579, 0.824999988079071, 0.9624999761581421, 0.987500011920929, 1.0, 1.0, 1.0]\n",
      "Validation Loss: [1.3369534015655518, 1.24818754196167, 1.1689049005508423, 1.0975439548492432, 1.0324760675430298, 0.9752084016799927, 0.9241069555282593, 0.8782671093940735, 0.8372077941894531, 0.7997148036956787]\n",
      "Validation Accuracy: [0.30000001192092896, 0.6000000238418579, 0.8500000238418579, 0.949999988079071, 1.0, 1.0, 1.0, 1.0, 1.0, 1.0]\n"
     ]
    }
   ],
   "source": [
    "print(\"Training History:\")\n",
    "print(\"Loss:\",history.history['loss'])\n",
    "print(\"Accuracy:\", history.history['accuracy'])\n",
    "print(\"Validation Loss:\",history.history['val_loss'])\n",
    "print(\"Validation Accuracy:\",history.history['val_accuracy'])"
   ]
  }
 ],
 "metadata": {
  "kernelspec": {
   "display_name": "Python 3 (ipykernel)",
   "language": "python",
   "name": "python3"
  },
  "language_info": {
   "codemirror_mode": {
    "name": "ipython",
    "version": 3
   },
   "file_extension": ".py",
   "mimetype": "text/x-python",
   "name": "python",
   "nbconvert_exporter": "python",
   "pygments_lexer": "ipython3",
   "version": "3.9.13"
  }
 },
 "nbformat": 4,
 "nbformat_minor": 5
}
