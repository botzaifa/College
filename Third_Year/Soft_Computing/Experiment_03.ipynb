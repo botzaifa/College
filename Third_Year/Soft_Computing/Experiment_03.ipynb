{
 "cells": [
  {
   "cell_type": "markdown",
   "id": "f312d7f8",
   "metadata": {},
   "source": [
    "# <u>Experiment - 03</u>\n",
    "\n",
    "## To implement Fuzzy Operations and Relations\n",
    "Fuzzy refers to something which is unclear or vague. Where every Key is associated with value which is between 0 to 1 based on the certainty."
   ]
  },
  {
   "cell_type": "markdown",
   "id": "82ca0377",
   "metadata": {},
   "source": [
    "### Union in Fuzzy sets"
   ]
  },
  {
   "cell_type": "code",
   "execution_count": 1,
   "id": "3bd04f25",
   "metadata": {},
   "outputs": [
    {
     "name": "stdout",
     "output_type": "stream",
     "text": [
      "Fuzzy Set 1: {'A': 0.2, 'B': 0.6, 'C': 0.8}\n",
      "Fuzzy Set 2: {'B': 0.4, 'C': 0.7, 'D': 0.5}\n",
      "Union Result: {'A': 0.2, 'B': 0.6, 'D': 0.5, 'C': 0.8}\n"
     ]
    }
   ],
   "source": [
    "def fuzzy_union(fuzzy_set1, fuzzy_set2):\n",
    "    # creating a dictionary which stores the results\n",
    "    union_result = {}\n",
    "    \n",
    "    # Merge the keys from both sets\n",
    "    all_keys = set(fuzzy_set1.keys()) | set(fuzzy_set2.keys())\n",
    "    \n",
    "    for key in all_keys:\n",
    "        # Get the maximum membership degree for each element\n",
    "        max_membership = max(fuzzy_set1.get(key, 0), fuzzy_set2.get(key, 0))\n",
    "        union_result[key] = max_membership\n",
    "    \n",
    "    return union_result\n",
    "\n",
    "# Example fuzzy sets\n",
    "fuzzy_set1 = {'A': 0.2, 'B': 0.6, 'C': 0.8}\n",
    "fuzzy_set2 = {'B': 0.4, 'C': 0.7, 'D': 0.5}\n",
    "\n",
    "# Compute the union of fuzzy sets\n",
    "union_result = fuzzy_union(fuzzy_set1, fuzzy_set2)\n",
    "\n",
    "# Display the result\n",
    "print(\"Fuzzy Set 1:\", fuzzy_set1)\n",
    "print(\"Fuzzy Set 2:\", fuzzy_set2)\n",
    "print(\"Union Result:\", union_result)"
   ]
  },
  {
   "cell_type": "markdown",
   "id": "ee31f133",
   "metadata": {},
   "source": [
    "### Intersection in Fuzzy Sets"
   ]
  },
  {
   "cell_type": "code",
   "execution_count": 2,
   "id": "3f7f196a",
   "metadata": {},
   "outputs": [
    {
     "name": "stdout",
     "output_type": "stream",
     "text": [
      "Fuzzy Set 1: {'A': 0.2, 'B': 0.6, 'C': 0.8}\n",
      "Fuzzy Set 2: {'B': 0.4, 'C': 0.7, 'D': 0.5}\n",
      "Intersection Result: {'B': 0.4, 'C': 0.7}\n"
     ]
    }
   ],
   "source": [
    "def fuzzy_intersection(fuzzy_set1, fuzzy_set2):\n",
    "    # creating a dictionary which stores the results\n",
    "    intersection_result = {}\n",
    "    \n",
    "    # Find the common keys in both sets\n",
    "    common_keys = set(fuzzy_set1.keys()) & set(fuzzy_set2.keys())\n",
    "    \n",
    "    for key in common_keys:\n",
    "        # Get the minimum membership degree for each element\n",
    "        min_membership = min(fuzzy_set1[key], fuzzy_set2[key])\n",
    "        intersection_result[key] = min_membership\n",
    "    \n",
    "    return intersection_result\n",
    "\n",
    "# Example fuzzy sets\n",
    "fuzzy_set1 = {'A': 0.2, 'B': 0.6, 'C': 0.8}\n",
    "fuzzy_set2 = {'B': 0.4, 'C': 0.7, 'D': 0.5}\n",
    "\n",
    "# Compute the intersection of fuzzy sets\n",
    "intersection_result = fuzzy_intersection(fuzzy_set1, fuzzy_set2)\n",
    "\n",
    "# Display the result\n",
    "print(\"Fuzzy Set 1:\", fuzzy_set1)\n",
    "print(\"Fuzzy Set 2:\", fuzzy_set2)\n",
    "print(\"Intersection Result:\", intersection_result)"
   ]
  },
  {
   "cell_type": "markdown",
   "id": "6ede10ce",
   "metadata": {},
   "source": [
    "### Complement in Fuzzy Sets"
   ]
  },
  {
   "cell_type": "code",
   "execution_count": 3,
   "id": "0a173b25",
   "metadata": {},
   "outputs": [
    {
     "name": "stdout",
     "output_type": "stream",
     "text": [
      "Fuzzy Set: {'A': 0.2, 'B': 0.6, 'C': 0.8}\n",
      "Complement Result: {'A': 0.8, 'B': 0.4, 'C': 0.19999999999999996}\n"
     ]
    }
   ],
   "source": [
    "def fuzzy_complement(fuzzy_set):\n",
    "    # creating a dictionary which stores the results\n",
    "    complement_result = {}\n",
    "    \n",
    "    for key, membership in fuzzy_set.items():\n",
    "        # Calculate the complement by subtracting each membership degree from 1\n",
    "        complement_degree = 1 - membership\n",
    "        complement_result[key] = complement_degree\n",
    "    \n",
    "    return complement_result\n",
    "\n",
    "# Example fuzzy set\n",
    "fuzzy_set = {'A': 0.2, 'B': 0.6, 'C': 0.8}\n",
    "\n",
    "# Compute the complement of the fuzzy set\n",
    "complement_result = fuzzy_complement(fuzzy_set)\n",
    "\n",
    "# Display the result\n",
    "print(\"Fuzzy Set:\", fuzzy_set)\n",
    "print(\"Complement Result:\", complement_result)"
   ]
  }
 ],
 "metadata": {
  "kernelspec": {
   "display_name": "Python 3 (ipykernel)",
   "language": "python",
   "name": "python3"
  },
  "language_info": {
   "codemirror_mode": {
    "name": "ipython",
    "version": 3
   },
   "file_extension": ".py",
   "mimetype": "text/x-python",
   "name": "python",
   "nbconvert_exporter": "python",
   "pygments_lexer": "ipython3",
   "version": "3.9.13"
  }
 },
 "nbformat": 4,
 "nbformat_minor": 5
}
