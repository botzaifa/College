{
 "cells": [
  {
   "cell_type": "markdown",
   "id": "b6361c38",
   "metadata": {},
   "source": [
    "# <u>Experiment - 02</u> (1st was Case Study)\n",
    "\n",
    "## AIM: To implement Mc-Culloh Pits model for a problem apply to solve AND/OR/XOR etc\n",
    "\n",
    "It takes binary inputs (0 or 1) and produces a binary output based on predefined thresholds and weights"
   ]
  },
  {
   "cell_type": "markdown",
   "id": "c7309035",
   "metadata": {},
   "source": [
    "### For implementing AND Function (returns 1 only if both inputs are 1)"
   ]
  },
  {
   "cell_type": "code",
   "execution_count": 1,
   "id": "52c9ccec",
   "metadata": {},
   "outputs": [],
   "source": [
    "def mcculloch_pitts_and(x1, x2):\n",
    "    # defining the threshold and weights for the function\n",
    "    threshold = 2\n",
    "    weight1, weight2 = 1, 1\n",
    "    \n",
    "    # Calculating the weighted sum of inputs\n",
    "    weighted_sum = weight1 * x1 + weight2 * x2\n",
    "    \n",
    "    # Applying the threshold\n",
    "    output = 1 if weighted_sum >= threshold else 0\n",
    "    \n",
    "    return output"
   ]
  },
  {
   "cell_type": "code",
   "execution_count": 2,
   "id": "cda69589",
   "metadata": {},
   "outputs": [
    {
     "name": "stdout",
     "output_type": "stream",
     "text": [
      "0\n",
      "0\n",
      "0\n",
      "1\n"
     ]
    }
   ],
   "source": [
    "# Test cases for AND Function\n",
    "print(mcculloch_pitts_and(0,0))\n",
    "print(mcculloch_pitts_and(0,1))\n",
    "print(mcculloch_pitts_and(1,0))\n",
    "print(mcculloch_pitts_and(1,1))"
   ]
  },
  {
   "cell_type": "markdown",
   "id": "726fb87a",
   "metadata": {},
   "source": [
    "### For implementing OR Function (returns 1 if any of the inputs is/are 1)"
   ]
  },
  {
   "cell_type": "code",
   "execution_count": 3,
   "id": "c6b35deb",
   "metadata": {},
   "outputs": [],
   "source": [
    "def mcculloch_pitts_or(x1, x2):\n",
    "    # defining the threshold and weights for the function\n",
    "    threshold = 1\n",
    "    weight1, weight2 = 1, 1\n",
    "    \n",
    "    # Calculating the weighted sum of inputs\n",
    "    weighted_sum = weight1 * x1 + weight2 * x2\n",
    "    \n",
    "    # Applying the threshold\n",
    "    output = 1 if weighted_sum >= threshold else 0\n",
    "    \n",
    "    return output"
   ]
  },
  {
   "cell_type": "code",
   "execution_count": 4,
   "id": "637099d8",
   "metadata": {},
   "outputs": [
    {
     "name": "stdout",
     "output_type": "stream",
     "text": [
      "0\n",
      "1\n",
      "1\n",
      "1\n"
     ]
    }
   ],
   "source": [
    "# Test cases for OR Function\n",
    "print(mcculloch_pitts_or(0,0))\n",
    "print(mcculloch_pitts_or(0,1))\n",
    "print(mcculloch_pitts_or(1,0))\n",
    "print(mcculloch_pitts_or(1,1))"
   ]
  },
  {
   "cell_type": "markdown",
   "id": "19691d26",
   "metadata": {},
   "source": [
    "### For implementing XOR Function (returns 1 if the inputs differ)"
   ]
  },
  {
   "cell_type": "code",
   "execution_count": 5,
   "id": "b2e770ee",
   "metadata": {},
   "outputs": [],
   "source": [
    "def mcculloch_pitts_xor(x1, x2):\n",
    "    # Defining the threshold and weights for the function\n",
    "    threshold = 1\n",
    "    weight1, weight2 = 1, 1\n",
    "    \n",
    "    # Calculating the weight \n",
    "    weighted_sum = weight1 * x1 + weight2 * x2\n",
    "    \n",
    "    # Applying the threshold\n",
    "    output = 1 if weighted_sum <= threshold and weighted_sum >= threshold else 0\n",
    "    \n",
    "    return output"
   ]
  },
  {
   "cell_type": "code",
   "execution_count": 6,
   "id": "58695b25",
   "metadata": {},
   "outputs": [
    {
     "name": "stdout",
     "output_type": "stream",
     "text": [
      "0\n",
      "1\n",
      "1\n",
      "0\n"
     ]
    }
   ],
   "source": [
    "# Test cases for XOR Function\n",
    "print(mcculloch_pitts_xor(0,0))\n",
    "print(mcculloch_pitts_xor(0,1))\n",
    "print(mcculloch_pitts_xor(1,0))\n",
    "print(mcculloch_pitts_xor(1,1))"
   ]
  }
 ],
 "metadata": {
  "kernelspec": {
   "display_name": "Python 3 (ipykernel)",
   "language": "python",
   "name": "python3"
  },
  "language_info": {
   "codemirror_mode": {
    "name": "ipython",
    "version": 3
   },
   "file_extension": ".py",
   "mimetype": "text/x-python",
   "name": "python",
   "nbconvert_exporter": "python",
   "pygments_lexer": "ipython3",
   "version": "3.9.13"
  }
 },
 "nbformat": 4,
 "nbformat_minor": 5
}
