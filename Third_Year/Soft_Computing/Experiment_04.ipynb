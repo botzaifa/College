{
 "cells": [
  {
   "cell_type": "markdown",
   "id": "8a934105",
   "metadata": {},
   "source": [
    "# <u>Experiment - 04</u>\n",
    "\n",
    "## To implement a Fuzzy Extension Principle\n",
    "\n",
    "Fuzzy logic that allows us to extend the membership degree of an element from a crisp set (a set with clear and precise boundaries) to a fuzzy set (a set with uncertain or vague boundaries)"
   ]
  },
  {
   "cell_type": "code",
   "execution_count": 1,
   "id": "5ed2f258",
   "metadata": {},
   "outputs": [],
   "source": [
    "import numpy as np"
   ]
  },
  {
   "cell_type": "code",
   "execution_count": 2,
   "id": "f269bc69",
   "metadata": {},
   "outputs": [],
   "source": [
    "def fuzzy_extension(original_set, new_domain):\n",
    "    extended_set = np.interp(new_domain, original_set.domain, original_set.membership)\n",
    "    return extended_set\n",
    "\n",
    "class FuzzySet:\n",
    "    def __init__(self, domain, membership):\n",
    "        self.domain = domain\n",
    "        self.membership = membership"
   ]
  },
  {
   "cell_type": "code",
   "execution_count": 3,
   "id": "9640765a",
   "metadata": {},
   "outputs": [],
   "source": [
    "# Definine the original fuzzy set on the domain [0,10]\n",
    "original_domain = np.linspace(0,10,11)\n",
    "original_membership = np.array([0, 0.2, 0.4, 0.6, 0.8, 1.0 , 0.8, 0.6, 0.4, 0.2, 0])"
   ]
  },
  {
   "cell_type": "code",
   "execution_count": 4,
   "id": "f5963be9",
   "metadata": {},
   "outputs": [],
   "source": [
    "original_set = FuzzySet(original_domain, original_membership)"
   ]
  },
  {
   "cell_type": "code",
   "execution_count": 5,
   "id": "7559e206",
   "metadata": {},
   "outputs": [],
   "source": [
    "# Defining the new domain \n",
    "new_domain = np.linspace(0, 20,21)"
   ]
  },
  {
   "cell_type": "code",
   "execution_count": 6,
   "id": "32f253e1",
   "metadata": {},
   "outputs": [],
   "source": [
    "# Extending the Fuzzy set to the new domain\n",
    "extended_membership = fuzzy_extension(original_set, new_domain)"
   ]
  },
  {
   "cell_type": "code",
   "execution_count": 7,
   "id": "a03782c6",
   "metadata": {},
   "outputs": [
    {
     "name": "stdout",
     "output_type": "stream",
     "text": [
      "Original Membership: [0.  0.2 0.4 0.6 0.8 1.  0.8 0.6 0.4 0.2 0. ]\n",
      "Extended Membership: [0.  0.2 0.4 0.6 0.8 1.  0.8 0.6 0.4 0.2 0.  0.  0.  0.  0.  0.  0.  0.\n",
      " 0.  0.  0. ]\n"
     ]
    }
   ],
   "source": [
    "print(\"Original Membership:\", original_membership)\n",
    "print(\"Extended Membership:\", extended_membership)"
   ]
  }
 ],
 "metadata": {
  "kernelspec": {
   "display_name": "Python 3 (ipykernel)",
   "language": "python",
   "name": "python3"
  },
  "language_info": {
   "codemirror_mode": {
    "name": "ipython",
    "version": 3
   },
   "file_extension": ".py",
   "mimetype": "text/x-python",
   "name": "python",
   "nbconvert_exporter": "python",
   "pygments_lexer": "ipython3",
   "version": "3.9.13"
  }
 },
 "nbformat": 4,
 "nbformat_minor": 5
}
