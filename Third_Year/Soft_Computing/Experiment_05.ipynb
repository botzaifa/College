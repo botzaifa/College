{
 "cells": [
  {
   "cell_type": "markdown",
   "id": "fa8c1706",
   "metadata": {},
   "source": [
    "# <u>Experiment - 05</u>\n",
    "\n",
    "## Design a Neural Network using a learning method to generate knowledge for classification"
   ]
  },
  {
   "cell_type": "code",
   "execution_count": 1,
   "id": "4799e849",
   "metadata": {},
   "outputs": [],
   "source": [
    "import numpy, random, os"
   ]
  },
  {
   "cell_type": "code",
   "execution_count": 2,
   "id": "db3c0831",
   "metadata": {},
   "outputs": [],
   "source": [
    "lr =  0.1  #learning rate (reduced for the sigmoid activation)\n",
    "bias = 1 \n",
    "weights = [random.random(), random.random(), random.random()]"
   ]
  },
  {
   "cell_type": "code",
   "execution_count": 3,
   "id": "8a14a616",
   "metadata": {},
   "outputs": [],
   "source": [
    "def Perceptron(input1, input2, output):\n",
    "    outputP = input1 * weights[0] + input2 * weights[1] + weights[2]\n",
    "    if outputP > 0: \n",
    "        outputP = 1\n",
    "    else:\n",
    "        outputP = 0\n",
    "    error = output - outputP\n",
    "    \n",
    "    weights[0] += error * input1 * lr\n",
    "    weights[1] += error * input2 * lr\n",
    "    # weights[2] += error * weights[2] * lr\n",
    "    weights[2] += error * bias * lr"
   ]
  },
  {
   "cell_type": "code",
   "execution_count": 4,
   "id": "6d988967",
   "metadata": {},
   "outputs": [],
   "source": [
    "for i in range(50):\n",
    "    Perceptron(1,1,1)\n",
    "    Perceptron(1,0,1)\n",
    "    Perceptron(0,1,1)\n",
    "    Perceptron(0,0,0)"
   ]
  },
  {
   "cell_type": "code",
   "execution_count": 5,
   "id": "6661feb4",
   "metadata": {},
   "outputs": [
    {
     "name": "stdout",
     "output_type": "stream",
     "text": [
      "Enter Input of x:1\n",
      "Enter Input of y:0\n",
      "1 or 0 is: 1\n"
     ]
    }
   ],
   "source": [
    "x = int(input(\"Enter Input of x:\"))\n",
    "y = int(input(\"Enter Input of y:\"))\n",
    "\n",
    "outputP = x*weights[0] + y*weights[1] + weights[2]\n",
    "\n",
    "if outputP > 0: #activation function\n",
    "    outputP = 1\n",
    "else:\n",
    "    outputP = 0\n",
    "    \n",
    "print(f\"{x} or {y} is: {outputP}\")"
   ]
  },
  {
   "cell_type": "code",
   "execution_count": 6,
   "id": "643c202d",
   "metadata": {},
   "outputs": [],
   "source": [
    "def Perceptron1(input1, input2, output):\n",
    "    outputP = input1 * weights[0] + input2 * weights[1] + weights[2]\n",
    "    \n",
    "    outputP = 1/(1+numpy.exp(-outputP)) #sigmoid function\n",
    "    \n",
    "    error = output - outputP\n",
    "    \n",
    "    weights[0] += error * input1 * lr\n",
    "    weights[1] += error * input2 * lr\n",
    "    #weights[2] += error * weights[2] * lr\n",
    "    weights[2] += error * bias * lr"
   ]
  },
  {
   "cell_type": "code",
   "execution_count": 7,
   "id": "6cddbaca",
   "metadata": {},
   "outputs": [
    {
     "name": "stdout",
     "output_type": "stream",
     "text": [
      "Enter Input of x:1\n",
      "Enter Input of y:0\n",
      "1 or 0 is: 0.6537925829669148\n"
     ]
    }
   ],
   "source": [
    "x = int(input(\"Enter Input of x:\"))\n",
    "y = int(input(\"Enter Input of y:\"))\n",
    "\n",
    "outputP = x*weights[0] + y*weights[1] + weights[2]\n",
    "\n",
    "outputP = 1/(1+numpy.exp(-outputP))\n",
    "    \n",
    "print(f\"{x} or {y} is: {outputP}\")"
   ]
  }
 ],
 "metadata": {
  "kernelspec": {
   "display_name": "Python 3 (ipykernel)",
   "language": "python",
   "name": "python3"
  },
  "language_info": {
   "codemirror_mode": {
    "name": "ipython",
    "version": 3
   },
   "file_extension": ".py",
   "mimetype": "text/x-python",
   "name": "python",
   "nbconvert_exporter": "python",
   "pygments_lexer": "ipython3",
   "version": "3.9.13"
  }
 },
 "nbformat": 4,
 "nbformat_minor": 5
}
