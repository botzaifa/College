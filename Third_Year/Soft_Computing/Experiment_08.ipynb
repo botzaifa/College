{
 "cells": [
  {
   "cell_type": "markdown",
   "id": "fdcb1e75",
   "metadata": {},
   "source": [
    "# <u>Experiment - 08</u>\n",
    "\n",
    "## To apply operators in Genetic Algorithm on given problem."
   ]
  },
  {
   "cell_type": "code",
   "execution_count": 2,
   "id": "21067d8c",
   "metadata": {},
   "outputs": [],
   "source": [
    "import random"
   ]
  },
  {
   "cell_type": "code",
   "execution_count": 3,
   "id": "28ac6bd1",
   "metadata": {},
   "outputs": [],
   "source": [
    "# Parameters\n",
    "target_string = \"1101011100\"\n",
    "population_size = 100\n",
    "mutation_rate = 0.01"
   ]
  },
  {
   "cell_type": "code",
   "execution_count": 4,
   "id": "5716408d",
   "metadata": {},
   "outputs": [],
   "source": [
    "# Generate the initial population\n",
    "def generate_population(pop_size, target_length):\n",
    "    return [''.join(random.choice('01') for _ in range(target_length)) for _ in range(pop_size)]"
   ]
  },
  {
   "cell_type": "code",
   "execution_count": 5,
   "id": "4ff966f5",
   "metadata": {},
   "outputs": [],
   "source": [
    "# Fitness function: Calculate the fitness of each individual\n",
    "def calculate_fitness(individual):\n",
    "    return sum(1 for a, b in zip(individual, target_string) if a == b)"
   ]
  },
  {
   "cell_type": "code",
   "execution_count": 6,
   "id": "5196b518",
   "metadata": {},
   "outputs": [],
   "source": [
    "# Selection: Roulette wheel selection\n",
    "def select_population(population, fitness_scores):\n",
    "    selected = []\n",
    "    total_fitness = sum(fitness_scores)\n",
    "    \n",
    "    for _ in range(len(population)):\n",
    "        pick = random.uniform(0, total_fitness)\n",
    "        current = 0\n",
    "        for i, fitness in enumerate(fitness_scores):\n",
    "            current += fitness\n",
    "            if current > pick:\n",
    "                selected.append(population[i])\n",
    "                break\n",
    "    \n",
    "    return selected"
   ]
  },
  {
   "cell_type": "code",
   "execution_count": 7,
   "id": "82fc4206",
   "metadata": {},
   "outputs": [],
   "source": [
    "# Crossover: Single-point crossover\n",
    "def crossover(parent1, parent2):\n",
    "    crossover_point = random.randint(1, len(parent1) - 1)\n",
    "    child1 = parent1[:crossover_point] + parent2[crossover_point:]\n",
    "    child2 = parent2[:crossover_point] + parent1[crossover_point:]\n",
    "    return child1, child2"
   ]
  },
  {
   "cell_type": "code",
   "execution_count": 8,
   "id": "fd5f808d",
   "metadata": {},
   "outputs": [],
   "source": [
    "# Mutation: Flip bits with a certain probability\n",
    "def mutate(individual, mutation_rate):\n",
    "    mutated_individual = list(individual)\n",
    "    for i in range(len(mutated_individual)):\n",
    "        if random.random() < mutation_rate:\n",
    "            mutated_individual[i] = '0' if mutated_individual[i] == '1' else '1'\n",
    "    return ''.join(mutated_individual)"
   ]
  },
  {
   "cell_type": "code",
   "execution_count": 9,
   "id": "d0ace968",
   "metadata": {},
   "outputs": [
    {
     "name": "stdout",
     "output_type": "stream",
     "text": [
      "Generation 0: 1101010100 (Fitness: 9)\n",
      "Generation 1: 0101011100 (Fitness: 9)\n",
      "Generation 2: 1101011100 (Fitness: 10)\n",
      "Solution found!\n"
     ]
    }
   ],
   "source": [
    "# Main Genetic Algorithm loop\n",
    "population = generate_population(population_size, len(target_string))\n",
    "generation = 0\n",
    "\n",
    "while True:\n",
    "    fitness_scores = [calculate_fitness(ind) for ind in population]\n",
    "    best_individual = population[fitness_scores.index(max(fitness_scores))]\n",
    "    \n",
    "    print(f\"Generation {generation}: {best_individual} (Fitness: {max(fitness_scores)})\")\n",
    "    \n",
    "    if best_individual == target_string:\n",
    "        print(\"Solution found!\")\n",
    "        break\n",
    "    \n",
    "    selected_population = select_population(population, fitness_scores)\n",
    "    new_population = []\n",
    "    \n",
    "    while len(new_population) < population_size:\n",
    "        parent1, parent2 = random.choices(selected_population, k=2)\n",
    "        child1, child2 = crossover(parent1, parent2)\n",
    "        child1 = mutate(child1, mutation_rate)\n",
    "        child2 = mutate(child2, mutation_rate)\n",
    "        new_population.extend([child1, child2])\n",
    "    \n",
    "    population = new_population\n",
    "    generation += 1"
   ]
  }
 ],
 "metadata": {
  "kernelspec": {
   "display_name": "Python 3 (ipykernel)",
   "language": "python",
   "name": "python3"
  },
  "language_info": {
   "codemirror_mode": {
    "name": "ipython",
    "version": 3
   },
   "file_extension": ".py",
   "mimetype": "text/x-python",
   "name": "python",
   "nbconvert_exporter": "python",
   "pygments_lexer": "ipython3",
   "version": "3.9.13"
  }
 },
 "nbformat": 4,
 "nbformat_minor": 5
}
